{
 "cells": [
  {
   "cell_type": "code",
   "execution_count": 1,
   "metadata": {},
   "outputs": [],
   "source": [
    "from pdfminer.pdfinterp import PDFResourceManager, PDFPageInterpreter\n",
    "from pdfminer.converter import TextConverter\n",
    "from pdfminer.layout import LAParams\n",
    "from pdfminer.pdfpage import PDFPage\n",
    "import PyPDF2\n",
    "from io import StringIO\n",
    "import os\n",
    "import re\n",
    "from datetime import datetime\n",
    "from vaderSentiment.vaderSentiment import SentimentIntensityAnalyzer\n",
    "import pandas as pd"
   ]
  },
  {
   "cell_type": "code",
   "execution_count": 2,
   "metadata": {},
   "outputs": [],
   "source": [
    "folder = \"D:\\\\Users\\\\figohjs\\\\Documents\\\\Story\\\\Data\\\\MPC\""
   ]
  },
  {
   "cell_type": "markdown",
   "metadata": {},
   "source": [
    "### udf"
   ]
  },
  {
   "cell_type": "code",
   "execution_count": 3,
   "metadata": {},
   "outputs": [],
   "source": [
    "#read and extract text from one pdf file using pdfminer\n",
    "def convertPdfToTxt(path):\n",
    "    rsrcmgr = PDFResourceManager()\n",
    "    retstr = StringIO()\n",
    "    #codec = 'utf-8'\n",
    "    laparams = LAParams()\n",
    "    device = TextConverter(rsrcmgr, retstr, laparams=laparams)\n",
    "    fp = open(path, 'rb')\n",
    "    interpreter = PDFPageInterpreter(rsrcmgr, device)\n",
    "    password = \"\"\n",
    "    maxpages = 0\n",
    "    caching = True\n",
    "    pagenos=set()\n",
    "    for page in PDFPage.get_pages(fp, pagenos, maxpages=maxpages, password=password,caching=caching, check_extractable=True):\n",
    "        interpreter.process_page(page)\n",
    "    text = retstr.getvalue()\n",
    "    fp.close()\n",
    "    device.close()\n",
    "    retstr.close()\n",
    "    return text"
   ]
  },
  {
   "cell_type": "code",
   "execution_count": 4,
   "metadata": {},
   "outputs": [],
   "source": [
    "def getDate(x):\n",
    "    metaData = re.search('MPC_(.*).pdf', x).group(1)\n",
    "    date = datetime.strptime(metaData, '%d%b%Y')\n",
    "    return date"
   ]
  },
  {
   "cell_type": "code",
   "execution_count": 59,
   "metadata": {},
   "outputs": [],
   "source": [
    "#between -1 (most extreme negative) and +1 (most extreme positive)\n",
    "def giveSentimentScore(text):\n",
    "    analyzer = SentimentIntensityAnalyzer()\n",
    "    sentimentscore = analyzer.polarity_scores(text)\n",
    "    score = sentimentscore['compound']\n",
    "    return score"
   ]
  },
  {
   "cell_type": "code",
   "execution_count": 5,
   "metadata": {},
   "outputs": [],
   "source": [
    "def cleanText(text, dateInfo):\n",
    "    dateStr = dateInfo.strftime('%d %b %Y')\n",
    "    firstSentence = re.search('(.*Embargo .*\\n)', text).group(1)\n",
    "    lastSentence = re.search(\"(\\nBank Negara Malaysia\\s*\\n{}\\n[^']*)\".format(dateStr), text).group(1)\n",
    "    #remove first and last sentence from the text\n",
    "    cleanText = re.sub(firstSentence + '|' + lastSentence, '', text)\n",
    "    #num of date\n",
    "    numDate = len(re.findall(dateStr, cleanText))\n",
    "    #sub \\n with ''\n",
    "    cleanText = re.sub('\\n' + '|' + dateStr, ' ', cleanText.strip())\n",
    "    return (cleanText, numDate)"
   ]
  },
  {
   "cell_type": "code",
   "execution_count": 86,
   "metadata": {},
   "outputs": [],
   "source": [
    "def buildFeatures(text, numDate):\n",
    "    #column names list\n",
    "    colList = ['NumberOfWords', 'NumberPositive', 'NumberNegative', 'SentimentScore']\n",
    "    \n",
    "    #calculate number of words\n",
    "    specialCharList = [':','/', ' ']\n",
    "    wordList = [i for i in text.split(' ') if i not in specialCharList]\n",
    "    numWords = len(wordList) + numDate\n",
    "    \n",
    "    #calculate number of positive/negative words\n",
    "    numPositive = 0\n",
    "    numNegative = 0\n",
    "    for word in wordList:\n",
    "        score = giveSentimentScore(word)\n",
    "        if score > 0:\n",
    "            numPositive+=1\n",
    "        elif score < 0:\n",
    "            numNegative+=1\n",
    "    \n",
    "    #get final sentiment score of the text\n",
    "    sentimentScore = giveSentimentScore(text)\n",
    "    \n",
    "    return [numWords, numPositive, numNegative, sentimentScore]"
   ]
  },
  {
   "cell_type": "markdown",
   "metadata": {},
   "source": [
    "### Debug"
   ]
  },
  {
   "cell_type": "code",
   "execution_count": 6,
   "metadata": {},
   "outputs": [],
   "source": [
    "#test if can convert metadata of all files into datetime\n",
    "# for i in os.listdir(folder):\n",
    "#     try:\n",
    "#         date = re.search('MPC_(.*).pdf', i).group(1)\n",
    "#         datetime.strptime(date, '%d%b%Y')\n",
    "#     except Exception as e:\n",
    "#         print(e)\n",
    "#         print(i)"
   ]
  },
  {
   "cell_type": "code",
   "execution_count": 33,
   "metadata": {},
   "outputs": [],
   "source": [
    "# #test if can get unwanted first, last sentence for all files\n",
    "# for i in os.listdir(folder):\n",
    "#     try:\n",
    "#         date = re.search('MPC_(.*).pdf', i).group(1)\n",
    "#         date = datetime.strptime(date, '%d%b%Y')\n",
    "#         text = convertPdfToTxt(folder + '\\\\' + i)\n",
    "#         firstSentence = re.search('(.*Embargo .*\\n)', text).group(1)\n",
    "# #         lastSentence = re.search(\"(\\nBank Negara Malaysia\\s*\\n{}\\n[^']*)\".format(date.strftime('%d %b %Y')), text).group(1)\n",
    "#     except Exception as e:\n",
    "#         print(e)\n",
    "#         print(i)"
   ]
  },
  {
   "cell_type": "code",
   "execution_count": 7,
   "metadata": {},
   "outputs": [
    {
     "name": "stdout",
     "output_type": "stream",
     "text": [
      "No /Root object! - Is this really a PDF?\n",
      ".Rhistory\n"
     ]
    }
   ],
   "source": [
    "textResultList = []\n",
    "numDateList = []\n",
    "#test if udf - convertPdfToTxt, getDate and cleanText works for all files\n",
    "for file in os.listdir(folder):\n",
    "    try:\n",
    "        if file not in ['.Rhistory']:\n",
    "            pdfText = convertPdfToTxt(folder + '\\\\' + file)\n",
    "            date = getDate(file)\n",
    "    #         print(date.strftime('%d %b %Y'))\n",
    "    #         cleanText(pdfText, date)\n",
    "            textResult, noDate = cleanText(pdfText, date)\n",
    "            textResultList.append((textResult, date))\n",
    "            numDateList.append(noDate)\n",
    "    except Exception as e:\n",
    "        print(e)\n",
    "        print(file)"
   ]
  },
  {
   "cell_type": "code",
   "execution_count": 13,
   "metadata": {},
   "outputs": [],
   "source": [
    "#just pdf text\n",
    "filename = \"D:\\\\Users\\\\figohjs\\\\Documents\\\\Story\\\\Data\\\\2020-12-08_MPCtext.csv\"\n",
    "df = pd.DataFrame([[i[0],i[1]] for i in textResultList], columns = ['Text', 'MPCDate'])\n",
    "df.to_csv(filename, index = False)"
   ]
  },
  {
   "cell_type": "code",
   "execution_count": 89,
   "metadata": {},
   "outputs": [],
   "source": [
    "#test if udf - buildFeatures work for all files\n",
    "featuresList = []\n",
    "for no, text in enumerate(textResultList):\n",
    "    try:\n",
    "        features = buildFeatures(text[0], noDateList[no])\n",
    "        #append date row-wise\n",
    "        features+=[text[1]]\n",
    "        featuresList.append(features)\n",
    "    except Exception as e:\n",
    "        print(e)"
   ]
  },
  {
   "cell_type": "code",
   "execution_count": 93,
   "metadata": {},
   "outputs": [],
   "source": [
    "dfResult = pd.DataFrame(featuresList)\n",
    "dfResult.columns = ['NumberOfWords', 'NumberPositive', 'NumberNegative', 'SentimentScore', 'MPCDate']\n",
    "filename = \"D:\\\\Users\\\\figohjs\\\\Documents\\\\Story\\\\Data\\\\2020-110-21_MPCfinalResult.csv\"\n",
    "dfResult.to_csv(filename, index = False)"
   ]
  },
  {
   "cell_type": "code",
   "execution_count": 37,
   "metadata": {},
   "outputs": [
    {
     "data": {
      "text/plain": [
       "datetime.datetime(2016, 9, 7, 0, 0)"
      ]
     },
     "execution_count": 37,
     "metadata": {},
     "output_type": "execute_result"
    }
   ],
   "source": [
    "# file = os.listdir(folder)[1]\n",
    "file = \"MPC_07Sep2016.pdf\"\n",
    "date = getDate(file)\n",
    "date"
   ]
  },
  {
   "cell_type": "code",
   "execution_count": 34,
   "metadata": {},
   "outputs": [
    {
     "data": {
      "text/plain": [
       "'11/21/2020\\n\\nPRESS RELEASES\\nMonetary Policy Statement\\nRef No : 09/16/03 / 07 Sep 2016 /\\nEmbargo : Not for publication or broadcast before 1500 hours on Wednesday 07 September 2016\\n\\n \\n\\nAt the Monetary Policy Committee (MPC) meeting today, Bank Negara Malaysia decided to\\nmaintain the Overnight Policy Rate (OPR) at 3.00 percent.\\n\\nThe global economy continues to expand at a moderate pace. Growth across the advanced\\neconomies has been modest. In Asia, economic activity has been supported by domestic\\ndemand amid weaker export growth. While volatility in the international financial markets has\\nsubsided, markets remain vulnerable to setbacks and changes in sentiments. Going forward,\\ndownside risks to global growth remain high following uncertainty over the growth momentum\\nand policy shifts in major economies, and unresolved issues post the EU referendum in the\\nUnited Kingdom.\\n\\nFor Malaysia, growth moderated slightly in the second quarter of the year, following weaker net\\nexports and a drawdown in stocks. Domestic demand, however, remained the key driver of\\ngrowth, with private consumption and private investment growing at a faster pace. Going\\nforward, private consumption will remain supported by wage and employment growth, with\\nadditional impetus coming from announced Government measures to increase disposable\\nincome. Investment activity will continue to be anchored by the on-going implementation of\\ninfrastructure projects and capital spending in the manufacturing and services sectors. On the\\nexternal front, export growth is expected to remain weak following subdued demand from\\nMalaysia’s key trading partners. Overall, the economy is projected to expand within\\nexpectations in 2016, and to remain on a steady growth path in 2017.\\n\\nHeadline inflation moderated to 1.1% in July. Inflation is expected to be at the lower end of the\\n2 to 3% range for 2016 and to remain relatively stable in 2017 given the environment of low\\nglobal energy and commodity prices, and generally subdued global inflation.\\n\\nDomestic financial conditions have remained stable since the previous MPC meeting with\\nfinancial markets continuing to function in an orderly manner. Financial institutions continue to\\noperate with strong capital and liquidity buffers and the growth of financing to the private sector\\nis consistent with the pace of economic activity. Banking system liquidity remains ample.\\n\\nAt the current level of the OPR, the degree of monetary accommodativeness is consistent with\\nthe policy stance to ensure that the domestic economy continues on a steady growth path\\namid stable inflation, supported by continued healthy financial intermediation in the economy.\\n\\n1/2\\n\\n\\x0c11/21/2020\\n\\nThe MPC will continue to monitor and assess the balance of risks surrounding the outlook for\\ndomestic growth and inflation.\\n\\nSee also:\\n\\nRecorded video of the Monetary Policy Statement by Governor\\n\\nBank Negara Malaysia \\n07 Sep 2016\\n\\n© Bank Negara Malaysia, 2016. All rights reserved.\\n\\n \\n\\n2/2\\n\\n\\x0c'"
      ]
     },
     "execution_count": 34,
     "metadata": {},
     "output_type": "execute_result"
    }
   ],
   "source": [
    "text = convertPdfToTxt(folder + '\\\\' + file)\n",
    "text"
   ]
  },
  {
   "cell_type": "code",
   "execution_count": 35,
   "metadata": {},
   "outputs": [
    {
     "data": {
      "text/plain": [
       "'Embargo : Not for publication or broadcast before 1500 hours on Wednesday 07 September 2016\\n'"
      ]
     },
     "execution_count": 35,
     "metadata": {},
     "output_type": "execute_result"
    }
   ],
   "source": [
    "firstSentence = re.search('(.*Embargo .*\\n)', text).group(1)\n",
    "firstSentence"
   ]
  },
  {
   "cell_type": "code",
   "execution_count": 38,
   "metadata": {},
   "outputs": [
    {
     "data": {
      "text/plain": [
       "'\\nBank Negara Malaysia \\n07 Sep 2016\\n\\n© Bank Negara Malaysia, 2016. All rights reserved.\\n\\n \\n\\n2/2\\n\\n\\x0c'"
      ]
     },
     "execution_count": 38,
     "metadata": {},
     "output_type": "execute_result"
    }
   ],
   "source": [
    "lastSentence = re.search(\"(\\nBank Negara Malaysia\\s*\\n{}\\n[^']*)\".format(date.strftime('%d %b %Y')), text).group(1)\n",
    "lastSentence"
   ]
  },
  {
   "cell_type": "code",
   "execution_count": 55,
   "metadata": {},
   "outputs": [
    {
     "data": {
      "text/plain": [
       "'11/21/2020  PRESS RELEASES Monetary Policy Statement Ref No : 09/16/03 /   /     At the Monetary Policy Committee (MPC) meeting today, Bank Negara Malaysia decided to maintain the Overnight Policy Rate (OPR) at 3.00 percent.  The global economy continues to expand at a moderate pace. Growth across the advanced economies has been modest. In Asia, economic activity has been supported by domestic demand amid weaker export growth. While volatility in the international financial markets has subsided, markets remain vulnerable to setbacks and changes in sentiments. Going forward, downside risks to global growth remain high following uncertainty over the growth momentum and policy shifts in major economies, and unresolved issues post the EU referendum in the United Kingdom.  For Malaysia, growth moderated slightly in the second quarter of the year, following weaker net exports and a drawdown in stocks. Domestic demand, however, remained the key driver of growth, with private consumption and private investment growing at a faster pace. Going forward, private consumption will remain supported by wage and employment growth, with additional impetus coming from announced Government measures to increase disposable income. Investment activity will continue to be anchored by the on-going implementation of infrastructure projects and capital spending in the manufacturing and services sectors. On the external front, export growth is expected to remain weak following subdued demand from Malaysia’s key trading partners. Overall, the economy is projected to expand within expectations in 2016, and to remain on a steady growth path in 2017.  Headline inflation moderated to 1.1% in July. Inflation is expected to be at the lower end of the 2 to 3% range for 2016 and to remain relatively stable in 2017 given the environment of low global energy and commodity prices, and generally subdued global inflation.  Domestic financial conditions have remained stable since the previous MPC meeting with financial markets continuing to function in an orderly manner. Financial institutions continue to operate with strong capital and liquidity buffers and the growth of financing to the private sector is consistent with the pace of economic activity. Banking system liquidity remains ample.  At the current level of the OPR, the degree of monetary accommodativeness is consistent with the policy stance to ensure that the domestic economy continues on a steady growth path amid stable inflation, supported by continued healthy financial intermediation in the economy.  1/2  \\x0c11/21/2020  The MPC will continue to monitor and assess the balance of risks surrounding the outlook for domestic growth and inflation.  See also:  Recorded video of the Monetary Policy Statement by Governor'"
      ]
     },
     "execution_count": 55,
     "metadata": {},
     "output_type": "execute_result"
    }
   ],
   "source": [
    "#remove first and last sentence from the text\n",
    "cleanText = re.sub(firstSentence + '|' + lastSentence, '', text)\n",
    "#num of date\n",
    "dateStr = date.strftime('%d %b %Y')\n",
    "numDate = len(re.findall(dateStr, cleanText))\n",
    "#sub \\n with ''\n",
    "cleanText = re.sub('\\n' + '|' + dateStr, ' ', cleanText.strip())\n",
    "cleanText"
   ]
  },
  {
   "cell_type": "code",
   "execution_count": null,
   "metadata": {},
   "outputs": [],
   "source": [
    "#features\n",
    "#number of words, sentiment scores, count of positive/negative words"
   ]
  },
  {
   "cell_type": "code",
   "execution_count": 56,
   "metadata": {},
   "outputs": [],
   "source": [
    "specialCharList = [':','/', ' ']\n",
    "wordList = [i for i in cleanText.split(' ') if i not in specialCharList]\n",
    "numWords = len(wordList)"
   ]
  },
  {
   "cell_type": "code",
   "execution_count": 57,
   "metadata": {},
   "outputs": [
    {
     "data": {
      "text/plain": [
       "433"
      ]
     },
     "execution_count": 57,
     "metadata": {},
     "output_type": "execute_result"
    }
   ],
   "source": [
    "numWords"
   ]
  },
  {
   "cell_type": "code",
   "execution_count": 60,
   "metadata": {},
   "outputs": [],
   "source": [
    "sentimentScore = giveSentimentScore(cleanText) "
   ]
  },
  {
   "cell_type": "code",
   "execution_count": 63,
   "metadata": {},
   "outputs": [],
   "source": [
    "numPositive = 0\n",
    "numNegative = 0\n",
    "for word in wordList:\n",
    "    score = giveSentimentScore(word)\n",
    "    if score > 0:\n",
    "        numPositive+=1\n",
    "    elif score < 0:\n",
    "        numNegative+=1"
   ]
  },
  {
   "cell_type": "code",
   "execution_count": 64,
   "metadata": {},
   "outputs": [
    {
     "data": {
      "text/plain": [
       "28"
      ]
     },
     "execution_count": 64,
     "metadata": {},
     "output_type": "execute_result"
    }
   ],
   "source": [
    "numPositive"
   ]
  },
  {
   "cell_type": "code",
   "execution_count": 65,
   "metadata": {},
   "outputs": [
    {
     "data": {
      "text/plain": [
       "14"
      ]
     },
     "execution_count": 65,
     "metadata": {},
     "output_type": "execute_result"
    }
   ],
   "source": [
    "numNegative"
   ]
  },
  {
   "cell_type": "code",
   "execution_count": 69,
   "metadata": {},
   "outputs": [
    {
     "data": {
      "text/html": [
       "<div>\n",
       "<style scoped>\n",
       "    .dataframe tbody tr th:only-of-type {\n",
       "        vertical-align: middle;\n",
       "    }\n",
       "\n",
       "    .dataframe tbody tr th {\n",
       "        vertical-align: top;\n",
       "    }\n",
       "\n",
       "    .dataframe thead th {\n",
       "        text-align: right;\n",
       "    }\n",
       "</style>\n",
       "<table border=\"1\" class=\"dataframe\">\n",
       "  <thead>\n",
       "    <tr style=\"text-align: right;\">\n",
       "      <th></th>\n",
       "      <th>0</th>\n",
       "      <th>1</th>\n",
       "      <th>2</th>\n",
       "    </tr>\n",
       "  </thead>\n",
       "  <tbody>\n",
       "    <tr>\n",
       "      <th>0</th>\n",
       "      <td>1</td>\n",
       "      <td>a</td>\n",
       "      <td>c</td>\n",
       "    </tr>\n",
       "    <tr>\n",
       "      <th>1</th>\n",
       "      <td>2</td>\n",
       "      <td>2</td>\n",
       "      <td>3</td>\n",
       "    </tr>\n",
       "  </tbody>\n",
       "</table>\n",
       "</div>"
      ],
      "text/plain": [
       "   0  1  2\n",
       "0  1  a  c\n",
       "1  2  2  3"
      ]
     },
     "execution_count": 69,
     "metadata": {},
     "output_type": "execute_result"
    }
   ],
   "source": [
    "pd.DataFrame([['1','a','c'], ['2','2','3']])"
   ]
  },
  {
   "cell_type": "code",
   "execution_count": null,
   "metadata": {},
   "outputs": [],
   "source": []
  }
 ],
 "metadata": {
  "kernelspec": {
   "display_name": "Python 3",
   "language": "python",
   "name": "python3"
  },
  "language_info": {
   "codemirror_mode": {
    "name": "ipython",
    "version": 3
   },
   "file_extension": ".py",
   "mimetype": "text/x-python",
   "name": "python",
   "nbconvert_exporter": "python",
   "pygments_lexer": "ipython3",
   "version": "3.7.6"
  }
 },
 "nbformat": 4,
 "nbformat_minor": 4
}
